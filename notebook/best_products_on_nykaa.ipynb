{
 "cells": [
  {
   "cell_type": "code",
   "execution_count": 1,
   "metadata": {},
   "outputs": [],
   "source": [
    "import pandas as pd\n",
    "from qdrant_client import models, QdrantClient"
   ]
  },
  {
   "cell_type": "code",
   "execution_count": 2,
   "metadata": {},
   "outputs": [
    {
     "name": "stderr",
     "output_type": "stream",
     "text": [
      "/Library/Frameworks/Python.framework/Versions/3.12/lib/python3.12/site-packages/sentence_transformers/cross_encoder/CrossEncoder.py:11: TqdmWarning: IProgress not found. Please update jupyter and ipywidgets. See https://ipywidgets.readthedocs.io/en/stable/user_install.html\n",
      "  from tqdm.autonotebook import tqdm, trange\n",
      "2024-06-20 20:00:53.469415: I tensorflow/core/platform/cpu_feature_guard.cc:210] This TensorFlow binary is optimized to use available CPU instructions in performance-critical operations.\n",
      "To enable the following instructions: AVX2 FMA, in other operations, rebuild TensorFlow with the appropriate compiler flags.\n"
     ]
    }
   ],
   "source": [
    "from sentence_transformers import SentenceTransformer"
   ]
  },
  {
   "cell_type": "code",
   "execution_count": 11,
   "metadata": {},
   "outputs": [
    {
     "data": {
      "text/html": [
       "<div>\n",
       "<style scoped>\n",
       "    .dataframe tbody tr th:only-of-type {\n",
       "        vertical-align: middle;\n",
       "    }\n",
       "\n",
       "    .dataframe tbody tr th {\n",
       "        vertical-align: top;\n",
       "    }\n",
       "\n",
       "    .dataframe thead th {\n",
       "        text-align: right;\n",
       "    }\n",
       "</style>\n",
       "<table border=\"1\" class=\"dataframe\">\n",
       "  <thead>\n",
       "    <tr style=\"text-align: right;\">\n",
       "      <th></th>\n",
       "      <th>product_id</th>\n",
       "      <th>brand_name</th>\n",
       "      <th>review_id</th>\n",
       "      <th>review_title</th>\n",
       "      <th>review_text</th>\n",
       "      <th>author</th>\n",
       "      <th>review_date</th>\n",
       "      <th>review_rating</th>\n",
       "      <th>is_a_buyer</th>\n",
       "      <th>pro_user</th>\n",
       "      <th>review_label</th>\n",
       "      <th>product_title</th>\n",
       "      <th>mrp</th>\n",
       "      <th>price</th>\n",
       "      <th>product_rating</th>\n",
       "      <th>product_rating_count</th>\n",
       "      <th>product_tags</th>\n",
       "      <th>product_url</th>\n",
       "    </tr>\n",
       "  </thead>\n",
       "  <tbody>\n",
       "    <tr>\n",
       "      <th>0</th>\n",
       "      <td>781070</td>\n",
       "      <td>Olay</td>\n",
       "      <td>16752142</td>\n",
       "      <td>Worth buying 50g one</td>\n",
       "      <td>Works as it claims. Could see the difference f...</td>\n",
       "      <td>Ashton Dsouza</td>\n",
       "      <td>2021-01-23 15:17:18</td>\n",
       "      <td>5.0</td>\n",
       "      <td>True</td>\n",
       "      <td>False</td>\n",
       "      <td>Verified Buyer</td>\n",
       "      <td>Olay Ultra Lightweight Moisturiser: Luminous W...</td>\n",
       "      <td>1999</td>\n",
       "      <td>1599</td>\n",
       "      <td>4.1</td>\n",
       "      <td>43</td>\n",
       "      <td>NaN</td>\n",
       "      <td>https://www.nykaa.com/olay-ultra-lightweight-m...</td>\n",
       "    </tr>\n",
       "    <tr>\n",
       "      <th>1</th>\n",
       "      <td>781070</td>\n",
       "      <td>Olay</td>\n",
       "      <td>14682550</td>\n",
       "      <td>Best cream to start ur day</td>\n",
       "      <td>It does what it claims . Best thing is it smoo...</td>\n",
       "      <td>Amrit Neelam</td>\n",
       "      <td>2020-09-07 15:30:42</td>\n",
       "      <td>5.0</td>\n",
       "      <td>True</td>\n",
       "      <td>False</td>\n",
       "      <td>Verified Buyer</td>\n",
       "      <td>Olay Ultra Lightweight Moisturiser: Luminous W...</td>\n",
       "      <td>1999</td>\n",
       "      <td>1599</td>\n",
       "      <td>4.1</td>\n",
       "      <td>43</td>\n",
       "      <td>NaN</td>\n",
       "      <td>https://www.nykaa.com/olay-ultra-lightweight-m...</td>\n",
       "    </tr>\n",
       "    <tr>\n",
       "      <th>2</th>\n",
       "      <td>781070</td>\n",
       "      <td>Olay</td>\n",
       "      <td>15618995</td>\n",
       "      <td>perfect for summers dry for winters</td>\n",
       "      <td>I have been using this product for months now....</td>\n",
       "      <td>Sanchi Gupta</td>\n",
       "      <td>2020-11-13 12:24:14</td>\n",
       "      <td>4.0</td>\n",
       "      <td>True</td>\n",
       "      <td>False</td>\n",
       "      <td>Verified Buyer</td>\n",
       "      <td>Olay Ultra Lightweight Moisturiser: Luminous W...</td>\n",
       "      <td>1999</td>\n",
       "      <td>1599</td>\n",
       "      <td>4.1</td>\n",
       "      <td>43</td>\n",
       "      <td>NaN</td>\n",
       "      <td>https://www.nykaa.com/olay-ultra-lightweight-m...</td>\n",
       "    </tr>\n",
       "    <tr>\n",
       "      <th>3</th>\n",
       "      <td>781070</td>\n",
       "      <td>Olay</td>\n",
       "      <td>13474509</td>\n",
       "      <td>Not a moisturizer</td>\n",
       "      <td>i have an oily skin, while this whip acts as a...</td>\n",
       "      <td>Ruchi Shah</td>\n",
       "      <td>2020-06-14 11:56:50</td>\n",
       "      <td>3.0</td>\n",
       "      <td>True</td>\n",
       "      <td>False</td>\n",
       "      <td>Verified Buyer</td>\n",
       "      <td>Olay Ultra Lightweight Moisturiser: Luminous W...</td>\n",
       "      <td>1999</td>\n",
       "      <td>1599</td>\n",
       "      <td>4.1</td>\n",
       "      <td>43</td>\n",
       "      <td>NaN</td>\n",
       "      <td>https://www.nykaa.com/olay-ultra-lightweight-m...</td>\n",
       "    </tr>\n",
       "    <tr>\n",
       "      <th>4</th>\n",
       "      <td>781070</td>\n",
       "      <td>Olay</td>\n",
       "      <td>16338982</td>\n",
       "      <td>Average</td>\n",
       "      <td>It's not that good. Please refresh try for oth...</td>\n",
       "      <td>Sukanya Sarkar</td>\n",
       "      <td>2020-12-22 15:24:35</td>\n",
       "      <td>2.0</td>\n",
       "      <td>True</td>\n",
       "      <td>False</td>\n",
       "      <td>Verified Buyer</td>\n",
       "      <td>Olay Ultra Lightweight Moisturiser: Luminous W...</td>\n",
       "      <td>1999</td>\n",
       "      <td>1599</td>\n",
       "      <td>4.1</td>\n",
       "      <td>43</td>\n",
       "      <td>NaN</td>\n",
       "      <td>https://www.nykaa.com/olay-ultra-lightweight-m...</td>\n",
       "    </tr>\n",
       "  </tbody>\n",
       "</table>\n",
       "</div>"
      ],
      "text/plain": [
       "   product_id brand_name  review_id                         review_title  \\\n",
       "0      781070       Olay   16752142                 Worth buying 50g one   \n",
       "1      781070       Olay   14682550           Best cream to start ur day   \n",
       "2      781070       Olay   15618995  perfect for summers dry for winters   \n",
       "3      781070       Olay   13474509                    Not a moisturizer   \n",
       "4      781070       Olay   16338982                              Average   \n",
       "\n",
       "                                         review_text          author  \\\n",
       "0  Works as it claims. Could see the difference f...   Ashton Dsouza   \n",
       "1  It does what it claims . Best thing is it smoo...    Amrit Neelam   \n",
       "2  I have been using this product for months now....    Sanchi Gupta   \n",
       "3  i have an oily skin, while this whip acts as a...      Ruchi Shah   \n",
       "4  It's not that good. Please refresh try for oth...  Sukanya Sarkar   \n",
       "\n",
       "           review_date  review_rating  is_a_buyer  pro_user    review_label  \\\n",
       "0  2021-01-23 15:17:18            5.0        True     False  Verified Buyer   \n",
       "1  2020-09-07 15:30:42            5.0        True     False  Verified Buyer   \n",
       "2  2020-11-13 12:24:14            4.0        True     False  Verified Buyer   \n",
       "3  2020-06-14 11:56:50            3.0        True     False  Verified Buyer   \n",
       "4  2020-12-22 15:24:35            2.0        True     False  Verified Buyer   \n",
       "\n",
       "                                       product_title   mrp  price  \\\n",
       "0  Olay Ultra Lightweight Moisturiser: Luminous W...  1999   1599   \n",
       "1  Olay Ultra Lightweight Moisturiser: Luminous W...  1999   1599   \n",
       "2  Olay Ultra Lightweight Moisturiser: Luminous W...  1999   1599   \n",
       "3  Olay Ultra Lightweight Moisturiser: Luminous W...  1999   1599   \n",
       "4  Olay Ultra Lightweight Moisturiser: Luminous W...  1999   1599   \n",
       "\n",
       "   product_rating  product_rating_count product_tags  \\\n",
       "0             4.1                    43          NaN   \n",
       "1             4.1                    43          NaN   \n",
       "2             4.1                    43          NaN   \n",
       "3             4.1                    43          NaN   \n",
       "4             4.1                    43          NaN   \n",
       "\n",
       "                                         product_url  \n",
       "0  https://www.nykaa.com/olay-ultra-lightweight-m...  \n",
       "1  https://www.nykaa.com/olay-ultra-lightweight-m...  \n",
       "2  https://www.nykaa.com/olay-ultra-lightweight-m...  \n",
       "3  https://www.nykaa.com/olay-ultra-lightweight-m...  \n",
       "4  https://www.nykaa.com/olay-ultra-lightweight-m...  "
      ]
     },
     "execution_count": 11,
     "metadata": {},
     "output_type": "execute_result"
    }
   ],
   "source": [
    "df = pd.read_csv(\"../data/nyka_top_brands_cosmetics_product_reviews.csv\")\n",
    "df.head()"
   ]
  },
  {
   "cell_type": "code",
   "execution_count": null,
   "metadata": {},
   "outputs": [],
   "source": []
  },
  {
   "cell_type": "code",
   "execution_count": 12,
   "metadata": {},
   "outputs": [
    {
     "name": "stdout",
     "output_type": "stream",
     "text": [
      "<class 'pandas.core.frame.DataFrame'>\n",
      "RangeIndex: 61284 entries, 0 to 61283\n",
      "Data columns (total 18 columns):\n",
      " #   Column                Non-Null Count  Dtype  \n",
      "---  ------                --------------  -----  \n",
      " 0   product_id            61284 non-null  int64  \n",
      " 1   brand_name            61284 non-null  object \n",
      " 2   review_id             61284 non-null  int64  \n",
      " 3   review_title          61284 non-null  object \n",
      " 4   review_text           61275 non-null  object \n",
      " 5   author                61284 non-null  object \n",
      " 6   review_date           61284 non-null  object \n",
      " 7   review_rating         61283 non-null  float64\n",
      " 8   is_a_buyer            61284 non-null  bool   \n",
      " 9   pro_user              61284 non-null  bool   \n",
      " 10  review_label          48249 non-null  object \n",
      " 11  product_title         61284 non-null  object \n",
      " 12  mrp                   61284 non-null  int64  \n",
      " 13  price                 61284 non-null  int64  \n",
      " 14  product_rating        61284 non-null  float64\n",
      " 15  product_rating_count  61284 non-null  int64  \n",
      " 16  product_tags          13502 non-null  object \n",
      " 17  product_url           61284 non-null  object \n",
      "dtypes: bool(2), float64(2), int64(5), object(9)\n",
      "memory usage: 7.6+ MB\n"
     ]
    }
   ],
   "source": [
    "df.info()"
   ]
  },
  {
   "cell_type": "code",
   "execution_count": 14,
   "metadata": {},
   "outputs": [
    {
     "ename": "KeyError",
     "evalue": "\"['product_tags'] not found in axis\"",
     "output_type": "error",
     "traceback": [
      "\u001b[0;31m---------------------------------------------------------------------------\u001b[0m",
      "\u001b[0;31mKeyError\u001b[0m                                  Traceback (most recent call last)",
      "Cell \u001b[0;32mIn[14], line 1\u001b[0m\n\u001b[0;32m----> 1\u001b[0m \u001b[43mdf\u001b[49m\u001b[38;5;241;43m.\u001b[39;49m\u001b[43mdrop\u001b[49m\u001b[43m(\u001b[49m\u001b[43mcolumns\u001b[49m\u001b[38;5;241;43m=\u001b[39;49m\u001b[43m[\u001b[49m\u001b[38;5;124;43m'\u001b[39;49m\u001b[38;5;124;43mproduct_tags\u001b[39;49m\u001b[38;5;124;43m'\u001b[39;49m\u001b[43m]\u001b[49m\u001b[43m,\u001b[49m\u001b[43m \u001b[49m\u001b[43maxis\u001b[49m\u001b[38;5;241;43m=\u001b[39;49m\u001b[38;5;241;43m1\u001b[39;49m\u001b[43m,\u001b[49m\u001b[43m \u001b[49m\u001b[43minplace\u001b[49m\u001b[38;5;241;43m=\u001b[39;49m\u001b[38;5;28;43;01mTrue\u001b[39;49;00m\u001b[43m)\u001b[49m\n\u001b[1;32m      2\u001b[0m df\u001b[38;5;241m.\u001b[39minfo()\n",
      "File \u001b[0;32m/Library/Frameworks/Python.framework/Versions/3.12/lib/python3.12/site-packages/pandas/core/frame.py:5568\u001b[0m, in \u001b[0;36mDataFrame.drop\u001b[0;34m(self, labels, axis, index, columns, level, inplace, errors)\u001b[0m\n\u001b[1;32m   5420\u001b[0m \u001b[38;5;28;01mdef\u001b[39;00m \u001b[38;5;21mdrop\u001b[39m(\n\u001b[1;32m   5421\u001b[0m     \u001b[38;5;28mself\u001b[39m,\n\u001b[1;32m   5422\u001b[0m     labels: IndexLabel \u001b[38;5;241m|\u001b[39m \u001b[38;5;28;01mNone\u001b[39;00m \u001b[38;5;241m=\u001b[39m \u001b[38;5;28;01mNone\u001b[39;00m,\n\u001b[0;32m   (...)\u001b[0m\n\u001b[1;32m   5429\u001b[0m     errors: IgnoreRaise \u001b[38;5;241m=\u001b[39m \u001b[38;5;124m\"\u001b[39m\u001b[38;5;124mraise\u001b[39m\u001b[38;5;124m\"\u001b[39m,\n\u001b[1;32m   5430\u001b[0m ) \u001b[38;5;241m-\u001b[39m\u001b[38;5;241m>\u001b[39m DataFrame \u001b[38;5;241m|\u001b[39m \u001b[38;5;28;01mNone\u001b[39;00m:\n\u001b[1;32m   5431\u001b[0m \u001b[38;5;250m    \u001b[39m\u001b[38;5;124;03m\"\"\"\u001b[39;00m\n\u001b[1;32m   5432\u001b[0m \u001b[38;5;124;03m    Drop specified labels from rows or columns.\u001b[39;00m\n\u001b[1;32m   5433\u001b[0m \n\u001b[0;32m   (...)\u001b[0m\n\u001b[1;32m   5566\u001b[0m \u001b[38;5;124;03m            weight  1.0     0.8\u001b[39;00m\n\u001b[1;32m   5567\u001b[0m \u001b[38;5;124;03m    \"\"\"\u001b[39;00m\n\u001b[0;32m-> 5568\u001b[0m     \u001b[38;5;28;01mreturn\u001b[39;00m \u001b[38;5;28;43msuper\u001b[39;49m\u001b[43m(\u001b[49m\u001b[43m)\u001b[49m\u001b[38;5;241;43m.\u001b[39;49m\u001b[43mdrop\u001b[49m\u001b[43m(\u001b[49m\n\u001b[1;32m   5569\u001b[0m \u001b[43m        \u001b[49m\u001b[43mlabels\u001b[49m\u001b[38;5;241;43m=\u001b[39;49m\u001b[43mlabels\u001b[49m\u001b[43m,\u001b[49m\n\u001b[1;32m   5570\u001b[0m \u001b[43m        \u001b[49m\u001b[43maxis\u001b[49m\u001b[38;5;241;43m=\u001b[39;49m\u001b[43maxis\u001b[49m\u001b[43m,\u001b[49m\n\u001b[1;32m   5571\u001b[0m \u001b[43m        \u001b[49m\u001b[43mindex\u001b[49m\u001b[38;5;241;43m=\u001b[39;49m\u001b[43mindex\u001b[49m\u001b[43m,\u001b[49m\n\u001b[1;32m   5572\u001b[0m \u001b[43m        \u001b[49m\u001b[43mcolumns\u001b[49m\u001b[38;5;241;43m=\u001b[39;49m\u001b[43mcolumns\u001b[49m\u001b[43m,\u001b[49m\n\u001b[1;32m   5573\u001b[0m \u001b[43m        \u001b[49m\u001b[43mlevel\u001b[49m\u001b[38;5;241;43m=\u001b[39;49m\u001b[43mlevel\u001b[49m\u001b[43m,\u001b[49m\n\u001b[1;32m   5574\u001b[0m \u001b[43m        \u001b[49m\u001b[43minplace\u001b[49m\u001b[38;5;241;43m=\u001b[39;49m\u001b[43minplace\u001b[49m\u001b[43m,\u001b[49m\n\u001b[1;32m   5575\u001b[0m \u001b[43m        \u001b[49m\u001b[43merrors\u001b[49m\u001b[38;5;241;43m=\u001b[39;49m\u001b[43merrors\u001b[49m\u001b[43m,\u001b[49m\n\u001b[1;32m   5576\u001b[0m \u001b[43m    \u001b[49m\u001b[43m)\u001b[49m\n",
      "File \u001b[0;32m/Library/Frameworks/Python.framework/Versions/3.12/lib/python3.12/site-packages/pandas/core/generic.py:4785\u001b[0m, in \u001b[0;36mNDFrame.drop\u001b[0;34m(self, labels, axis, index, columns, level, inplace, errors)\u001b[0m\n\u001b[1;32m   4783\u001b[0m \u001b[38;5;28;01mfor\u001b[39;00m axis, labels \u001b[38;5;129;01min\u001b[39;00m axes\u001b[38;5;241m.\u001b[39mitems():\n\u001b[1;32m   4784\u001b[0m     \u001b[38;5;28;01mif\u001b[39;00m labels \u001b[38;5;129;01mis\u001b[39;00m \u001b[38;5;129;01mnot\u001b[39;00m \u001b[38;5;28;01mNone\u001b[39;00m:\n\u001b[0;32m-> 4785\u001b[0m         obj \u001b[38;5;241m=\u001b[39m \u001b[43mobj\u001b[49m\u001b[38;5;241;43m.\u001b[39;49m\u001b[43m_drop_axis\u001b[49m\u001b[43m(\u001b[49m\u001b[43mlabels\u001b[49m\u001b[43m,\u001b[49m\u001b[43m \u001b[49m\u001b[43maxis\u001b[49m\u001b[43m,\u001b[49m\u001b[43m \u001b[49m\u001b[43mlevel\u001b[49m\u001b[38;5;241;43m=\u001b[39;49m\u001b[43mlevel\u001b[49m\u001b[43m,\u001b[49m\u001b[43m \u001b[49m\u001b[43merrors\u001b[49m\u001b[38;5;241;43m=\u001b[39;49m\u001b[43merrors\u001b[49m\u001b[43m)\u001b[49m\n\u001b[1;32m   4787\u001b[0m \u001b[38;5;28;01mif\u001b[39;00m inplace:\n\u001b[1;32m   4788\u001b[0m     \u001b[38;5;28mself\u001b[39m\u001b[38;5;241m.\u001b[39m_update_inplace(obj)\n",
      "File \u001b[0;32m/Library/Frameworks/Python.framework/Versions/3.12/lib/python3.12/site-packages/pandas/core/generic.py:4827\u001b[0m, in \u001b[0;36mNDFrame._drop_axis\u001b[0;34m(self, labels, axis, level, errors, only_slice)\u001b[0m\n\u001b[1;32m   4825\u001b[0m         new_axis \u001b[38;5;241m=\u001b[39m axis\u001b[38;5;241m.\u001b[39mdrop(labels, level\u001b[38;5;241m=\u001b[39mlevel, errors\u001b[38;5;241m=\u001b[39merrors)\n\u001b[1;32m   4826\u001b[0m     \u001b[38;5;28;01melse\u001b[39;00m:\n\u001b[0;32m-> 4827\u001b[0m         new_axis \u001b[38;5;241m=\u001b[39m \u001b[43maxis\u001b[49m\u001b[38;5;241;43m.\u001b[39;49m\u001b[43mdrop\u001b[49m\u001b[43m(\u001b[49m\u001b[43mlabels\u001b[49m\u001b[43m,\u001b[49m\u001b[43m \u001b[49m\u001b[43merrors\u001b[49m\u001b[38;5;241;43m=\u001b[39;49m\u001b[43merrors\u001b[49m\u001b[43m)\u001b[49m\n\u001b[1;32m   4828\u001b[0m     indexer \u001b[38;5;241m=\u001b[39m axis\u001b[38;5;241m.\u001b[39mget_indexer(new_axis)\n\u001b[1;32m   4830\u001b[0m \u001b[38;5;66;03m# Case for non-unique axis\u001b[39;00m\n\u001b[1;32m   4831\u001b[0m \u001b[38;5;28;01melse\u001b[39;00m:\n",
      "File \u001b[0;32m/Library/Frameworks/Python.framework/Versions/3.12/lib/python3.12/site-packages/pandas/core/indexes/base.py:7070\u001b[0m, in \u001b[0;36mIndex.drop\u001b[0;34m(self, labels, errors)\u001b[0m\n\u001b[1;32m   7068\u001b[0m \u001b[38;5;28;01mif\u001b[39;00m mask\u001b[38;5;241m.\u001b[39many():\n\u001b[1;32m   7069\u001b[0m     \u001b[38;5;28;01mif\u001b[39;00m errors \u001b[38;5;241m!=\u001b[39m \u001b[38;5;124m\"\u001b[39m\u001b[38;5;124mignore\u001b[39m\u001b[38;5;124m\"\u001b[39m:\n\u001b[0;32m-> 7070\u001b[0m         \u001b[38;5;28;01mraise\u001b[39;00m \u001b[38;5;167;01mKeyError\u001b[39;00m(\u001b[38;5;124mf\u001b[39m\u001b[38;5;124m\"\u001b[39m\u001b[38;5;132;01m{\u001b[39;00mlabels[mask]\u001b[38;5;241m.\u001b[39mtolist()\u001b[38;5;132;01m}\u001b[39;00m\u001b[38;5;124m not found in axis\u001b[39m\u001b[38;5;124m\"\u001b[39m)\n\u001b[1;32m   7071\u001b[0m     indexer \u001b[38;5;241m=\u001b[39m indexer[\u001b[38;5;241m~\u001b[39mmask]\n\u001b[1;32m   7072\u001b[0m \u001b[38;5;28;01mreturn\u001b[39;00m \u001b[38;5;28mself\u001b[39m\u001b[38;5;241m.\u001b[39mdelete(indexer)\n",
      "\u001b[0;31mKeyError\u001b[0m: \"['product_tags'] not found in axis\""
     ]
    }
   ],
   "source": [
    "df.drop(columns=['product_tags'], axis=1, inplace=True)\n",
    "df.info()"
   ]
  },
  {
   "cell_type": "code",
   "execution_count": 15,
   "metadata": {},
   "outputs": [
    {
     "name": "stdout",
     "output_type": "stream",
     "text": [
      "<class 'pandas.core.frame.DataFrame'>\n",
      "RangeIndex: 61284 entries, 0 to 61283\n",
      "Data columns (total 17 columns):\n",
      " #   Column                Non-Null Count  Dtype  \n",
      "---  ------                --------------  -----  \n",
      " 0   product_id            61284 non-null  int64  \n",
      " 1   brand_name            61284 non-null  object \n",
      " 2   review_id             61284 non-null  int64  \n",
      " 3   review_title          61284 non-null  object \n",
      " 4   review_text           61275 non-null  object \n",
      " 5   author                61284 non-null  object \n",
      " 6   review_date           61284 non-null  object \n",
      " 7   review_rating         61283 non-null  float64\n",
      " 8   is_a_buyer            61284 non-null  bool   \n",
      " 9   pro_user              61284 non-null  bool   \n",
      " 10  review_label          48249 non-null  object \n",
      " 11  product_title         61284 non-null  object \n",
      " 12  mrp                   61284 non-null  int64  \n",
      " 13  price                 61284 non-null  int64  \n",
      " 14  product_rating        61284 non-null  float64\n",
      " 15  product_rating_count  61284 non-null  int64  \n",
      " 16  product_url           61284 non-null  object \n",
      "dtypes: bool(2), float64(2), int64(5), object(8)\n",
      "memory usage: 7.1+ MB\n"
     ]
    }
   ],
   "source": [
    "df.info()"
   ]
  },
  {
   "cell_type": "code",
   "execution_count": 16,
   "metadata": {},
   "outputs": [
    {
     "name": "stdout",
     "output_type": "stream",
     "text": [
      "<class 'pandas.core.frame.DataFrame'>\n",
      "RangeIndex: 61284 entries, 0 to 61283\n",
      "Data columns (total 16 columns):\n",
      " #   Column                Non-Null Count  Dtype  \n",
      "---  ------                --------------  -----  \n",
      " 0   product_id            61284 non-null  int64  \n",
      " 1   brand_name            61284 non-null  object \n",
      " 2   review_id             61284 non-null  int64  \n",
      " 3   review_title          61284 non-null  object \n",
      " 4   review_text           61275 non-null  object \n",
      " 5   author                61284 non-null  object \n",
      " 6   review_date           61284 non-null  object \n",
      " 7   review_rating         61283 non-null  float64\n",
      " 8   is_a_buyer            61284 non-null  bool   \n",
      " 9   pro_user              61284 non-null  bool   \n",
      " 10  product_title         61284 non-null  object \n",
      " 11  mrp                   61284 non-null  int64  \n",
      " 12  price                 61284 non-null  int64  \n",
      " 13  product_rating        61284 non-null  float64\n",
      " 14  product_rating_count  61284 non-null  int64  \n",
      " 15  product_url           61284 non-null  object \n",
      "dtypes: bool(2), float64(2), int64(5), object(7)\n",
      "memory usage: 6.7+ MB\n"
     ]
    }
   ],
   "source": [
    "df.drop(columns=['review_label'], axis=1, inplace=True)\n",
    "df.info()"
   ]
  },
  {
   "cell_type": "code",
   "execution_count": 17,
   "metadata": {},
   "outputs": [
    {
     "name": "stdout",
     "output_type": "stream",
     "text": [
      "<class 'pandas.core.frame.DataFrame'>\n",
      "Index: 61274 entries, 0 to 61283\n",
      "Data columns (total 16 columns):\n",
      " #   Column                Non-Null Count  Dtype  \n",
      "---  ------                --------------  -----  \n",
      " 0   product_id            61274 non-null  int64  \n",
      " 1   brand_name            61274 non-null  object \n",
      " 2   review_id             61274 non-null  int64  \n",
      " 3   review_title          61274 non-null  object \n",
      " 4   review_text           61274 non-null  object \n",
      " 5   author                61274 non-null  object \n",
      " 6   review_date           61274 non-null  object \n",
      " 7   review_rating         61274 non-null  float64\n",
      " 8   is_a_buyer            61274 non-null  bool   \n",
      " 9   pro_user              61274 non-null  bool   \n",
      " 10  product_title         61274 non-null  object \n",
      " 11  mrp                   61274 non-null  int64  \n",
      " 12  price                 61274 non-null  int64  \n",
      " 13  product_rating        61274 non-null  float64\n",
      " 14  product_rating_count  61274 non-null  int64  \n",
      " 15  product_url           61274 non-null  object \n",
      "dtypes: bool(2), float64(2), int64(5), object(7)\n",
      "memory usage: 7.1+ MB\n"
     ]
    }
   ],
   "source": [
    "df.dropna(axis=0, inplace=True)\n",
    "df.info()"
   ]
  },
  {
   "cell_type": "code",
   "execution_count": 18,
   "metadata": {},
   "outputs": [
    {
     "name": "stdout",
     "output_type": "stream",
     "text": [
      "10000\n"
     ]
    }
   ],
   "source": [
    "data = df.sample(10000).to_dict('records')\n",
    "print(len(data))"
   ]
  },
  {
   "cell_type": "code",
   "execution_count": 19,
   "metadata": {},
   "outputs": [
    {
     "name": "stderr",
     "output_type": "stream",
     "text": [
      "/Library/Frameworks/Python.framework/Versions/3.12/lib/python3.12/site-packages/huggingface_hub/file_download.py:1132: FutureWarning: `resume_download` is deprecated and will be removed in version 1.0.0. Downloads always resume when possible. If you want to force a new download, use `force_download=True`.\n",
      "  warnings.warn(\n"
     ]
    }
   ],
   "source": [
    "encoder = SentenceTransformer(\"all-MiniLM-L6-v2\")\n",
    "qdrant = QdrantClient(\":memory:\")"
   ]
  },
  {
   "cell_type": "code",
   "execution_count": 20,
   "metadata": {},
   "outputs": [
    {
     "name": "stderr",
     "output_type": "stream",
     "text": [
      "/var/folders/y0/4vdn8x4s1093zn89k44s0xdr0000gn/T/ipykernel_77079/668808393.py:1: DeprecationWarning: `recreate_collection` method is deprecated and will be removed in the future. Use `collection_exists` to check collection existence and `create_collection` instead.\n",
      "  qdrant.recreate_collection(\n"
     ]
    },
    {
     "data": {
      "text/plain": [
       "True"
      ]
     },
     "execution_count": 20,
     "metadata": {},
     "output_type": "execute_result"
    }
   ],
   "source": [
    "qdrant.recreate_collection(\n",
    "    collection_name=\"top_moisturisers\",\n",
    "    vectors_config=models.VectorParams(\n",
    "        size=encoder.get_sentence_embedding_dimension(),\n",
    "        distance=models.Distance.COSINE\n",
    "    )\n",
    ")"
   ]
  },
  {
   "cell_type": "code",
   "execution_count": 22,
   "metadata": {},
   "outputs": [],
   "source": [
    "qdrant.upload_points(\n",
    "    collection_name=\"top_moisturisers\",\n",
    "    points=[\n",
    "        models.PointStruct(\n",
    "            id = idx,\n",
    "            vector=encoder.encode(doc['review_text']).tolist(),\n",
    "            payload=doc,\n",
    "        )for idx, doc in enumerate(data)\n",
    "    ]\n",
    ")"
   ]
  },
  {
   "cell_type": "code",
   "execution_count": 23,
   "metadata": {},
   "outputs": [],
   "source": [
    "user_prompt = \"Suggest me few good moisturizers for face rated by customers\""
   ]
  },
  {
   "cell_type": "code",
   "execution_count": 24,
   "metadata": {},
   "outputs": [
    {
     "name": "stdout",
     "output_type": "stream",
     "text": [
      "{'product_id': 930436, 'brand_name': 'Lakme', 'review_id': 17471867, 'review_title': 'Loved it !', 'review_text': 'Very nice moisturiser Worth the money Must buy', 'author': 'agarwalankita30 Agarwal', 'review_date': '2021-03-22 08:45:03', 'review_rating': 5.0, 'is_a_buyer': True, 'pro_user': False, 'product_title': 'Lakme 9 To 5 Matte Moist Mattifying Moisturiser', 'mrp': 349, 'price': 279, 'product_rating': 4.1, 'product_rating_count': 763, 'product_url': 'https://www.nykaa.com/lakme-9-to-5-matte-moist-mattifying-moisturiser-50-gm/p/930436'} :score= 0.6739903195562051\n",
      "{'product_id': 1473197, 'brand_name': 'Nykaa Naturals', 'review_id': 22409147, 'review_title': 'Blue', 'review_text': 'Nykaa Mac some of the best skin care and makeup products that also affordable price range. I recently bought this face massager from nykaa and I am loving it. It actually does what it claims. I basically use it for scrubbing my face with my foaming face wash. Hit gently exfoliate my skin and make it super soft.', 'author': 'Miss Nightmare', 'review_date': '2022-01-13 18:26:25', 'review_rating': 5.0, 'is_a_buyer': False, 'pro_user': False, 'product_title': 'Nykaa Naturals CleanTouch 2 in 1 Face Brush & Massager for Deep Cleansing & Exfoliation - Pink', 'mrp': 2999, 'price': 2249, 'product_rating': 3.9, 'product_rating_count': 240, 'product_url': 'https://www.nykaa.com/nykaa-face-cleansing-brush-pink/p/1473197'} :score= 0.6526697518032523\n",
      "{'product_id': 8078, 'brand_name': 'Nivea', 'review_id': 29499778, 'review_title': 'Superb', 'review_text': 'My favourite moisturiser', 'author': 'Situ', 'review_date': '2022-10-18 13:53:12', 'review_rating': 5.0, 'is_a_buyer': False, 'pro_user': False, 'product_title': 'NIVEA Sun Lotion, SPF 50, with UVA & UVB Protection, Water Resistant Sunscreen', 'mrp': 360, 'price': 342, 'product_rating': 4.1, 'product_rating_count': 4431, 'product_url': 'https://www.nykaa.com/nivea-moisturising-sun-lotion-spf-50/p/8078'} :score= 0.6498334778681039\n"
     ]
    }
   ],
   "source": [
    "hits = qdrant.search(\n",
    "    collection_name=\"top_moisturisers\",\n",
    "    query_vector=encoder.encode(user_prompt).tolist(),\n",
    "    limit=3\n",
    ")\n",
    "\n",
    "for hit in hits:\n",
    "    print(hit.payload,\":score=\", hit.score)\n",
    "\n",
    "\n"
   ]
  },
  {
   "cell_type": "code",
   "execution_count": 26,
   "metadata": {},
   "outputs": [
    {
     "name": "stdout",
     "output_type": "stream",
     "text": [
      "[{'product_id': 930436, 'brand_name': 'Lakme', 'review_id': 17471867, 'review_title': 'Loved it !', 'review_text': 'Very nice moisturiser Worth the money Must buy', 'author': 'agarwalankita30 Agarwal', 'review_date': '2021-03-22 08:45:03', 'review_rating': 5.0, 'is_a_buyer': True, 'pro_user': False, 'product_title': 'Lakme 9 To 5 Matte Moist Mattifying Moisturiser', 'mrp': 349, 'price': 279, 'product_rating': 4.1, 'product_rating_count': 763, 'product_url': 'https://www.nykaa.com/lakme-9-to-5-matte-moist-mattifying-moisturiser-50-gm/p/930436'}, {'product_id': 1473197, 'brand_name': 'Nykaa Naturals', 'review_id': 22409147, 'review_title': 'Blue', 'review_text': 'Nykaa Mac some of the best skin care and makeup products that also affordable price range. I recently bought this face massager from nykaa and I am loving it. It actually does what it claims. I basically use it for scrubbing my face with my foaming face wash. Hit gently exfoliate my skin and make it super soft.', 'author': 'Miss Nightmare', 'review_date': '2022-01-13 18:26:25', 'review_rating': 5.0, 'is_a_buyer': False, 'pro_user': False, 'product_title': 'Nykaa Naturals CleanTouch 2 in 1 Face Brush & Massager for Deep Cleansing & Exfoliation - Pink', 'mrp': 2999, 'price': 2249, 'product_rating': 3.9, 'product_rating_count': 240, 'product_url': 'https://www.nykaa.com/nykaa-face-cleansing-brush-pink/p/1473197'}, {'product_id': 8078, 'brand_name': 'Nivea', 'review_id': 29499778, 'review_title': 'Superb', 'review_text': 'My favourite moisturiser', 'author': 'Situ', 'review_date': '2022-10-18 13:53:12', 'review_rating': 5.0, 'is_a_buyer': False, 'pro_user': False, 'product_title': 'NIVEA Sun Lotion, SPF 50, with UVA & UVB Protection, Water Resistant Sunscreen', 'mrp': 360, 'price': 342, 'product_rating': 4.1, 'product_rating_count': 4431, 'product_url': 'https://www.nykaa.com/nivea-moisturising-sun-lotion-spf-50/p/8078'}]\n"
     ]
    }
   ],
   "source": [
    "search_result = [hit.payload for hit in hits]\n",
    "print(search_result)"
   ]
  },
  {
   "cell_type": "code",
   "execution_count": 27,
   "metadata": {},
   "outputs": [
    {
     "name": "stderr",
     "output_type": "stream",
     "text": [
      "huggingface/tokenizers: The current process just got forked, after parallelism has already been used. Disabling parallelism to avoid deadlocks...\n",
      "To disable this warning, you can either:\n",
      "\t- Avoid using `tokenizers` before the fork if possible\n",
      "\t- Explicitly set the environment variable TOKENIZERS_PARALLELISM=(true | false)\n"
     ]
    },
    {
     "name": "stdout",
     "output_type": "stream",
     "text": [
      "ChatCompletionMessage(content=\"I am not able to browse through the product reviews on the website. However, based on the information provided, the best moisturizer for face is the lakme 9 to 5 matte moist matteifying moisturiser. It is a popular product with a rating of 4.1 out of 5.0, and it is priced at 279. It is a matte moisturiser that provides a matte finish to the skin, making it suitable for those who prefer a more natural look. It is also affordable, with a price range of 349 to 279. The product is highly rated by both buyers and sellers on the website, with a high rating of 5.0 out of 5.0 from both buyers and sellers. It is also a popular product among Nykaa Naturals' customers, with a rating of 5.0 out of 5.0 from their reviews.</s>\", role='assistant', function_call=None, tool_calls=None)\n"
     ]
    }
   ],
   "source": [
    "# Now time to connect to the local large language model\n",
    "from openai import OpenAI\n",
    "client = OpenAI(\n",
    "    base_url=\"http://127.0.0.1:8080/v1\", # \"http://<Your api-server IP>:port\"\n",
    "    api_key = \"sk-no-key-required\"\n",
    ")\n",
    "completion = client.chat.completions.create(\n",
    "    model=\"LLaMA_CPP\",\n",
    "    messages=[\n",
    "        {\"role\": \"system\", \"content\": \"You are chatbot, a cosmetic specialist. Your top priority is to help guide users into choosing a product and guide them with their requests.\"},\n",
    "        {\"role\": \"user\", \"content\": \"Suggest me the best moisturizer for face\"},\n",
    "        {\"role\": \"assistant\", \"content\": str(search_result)}\n",
    "        \n",
    "    ]\n",
    ")\n",
    "print(completion.choices[0].message)"
   ]
  },
  {
   "cell_type": "code",
   "execution_count": null,
   "metadata": {},
   "outputs": [],
   "source": []
  },
  {
   "cell_type": "code",
   "execution_count": null,
   "metadata": {},
   "outputs": [],
   "source": []
  }
 ],
 "metadata": {
  "kernelspec": {
   "display_name": "Python 3",
   "language": "python",
   "name": "python3"
  },
  "language_info": {
   "codemirror_mode": {
    "name": "ipython",
    "version": 3
   },
   "file_extension": ".py",
   "mimetype": "text/x-python",
   "name": "python",
   "nbconvert_exporter": "python",
   "pygments_lexer": "ipython3",
   "version": "3.12.1"
  }
 },
 "nbformat": 4,
 "nbformat_minor": 2
}
